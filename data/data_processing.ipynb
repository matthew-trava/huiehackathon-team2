{
 "cells": [
  {
   "cell_type": "markdown",
   "metadata": {},
   "source": [
    "# Editing the Raw Data to be accommodative of easier data transformation and understanding"
   ]
  },
  {
   "cell_type": "code",
   "execution_count": 32,
   "metadata": {},
   "outputs": [],
   "source": [
    "import pandas as pd\n",
    "import numpy as np"
   ]
  },
  {
   "cell_type": "code",
   "execution_count": 33,
   "metadata": {},
   "outputs": [],
   "source": [
    "df_2020_raw = pd.read_csv('raw/2020 Survey Data.csv')\n",
    "df_2021_raw = pd.read_csv('raw/2021 Survey Data.csv')"
   ]
  },
  {
   "cell_type": "code",
   "execution_count": 34,
   "metadata": {},
   "outputs": [],
   "source": [
    "def replace_with_ohe(df, col_list):\n",
    "    \"\"\"Replacing columns in the dataframe that have just the value populated \n",
    "    with the text of the header into a 1 and 0 almost acting as a one hot encoding process (hence the ohe in the name.\n",
    "    Since all the other values are NaN it will replace it accordingly\"\"\"\n",
    "    for column in col_list:\n",
    "        df[column] = df[column].fillna(0)\n",
    "        df.loc[df[column] != 0, column] = 1\n",
    "    return df\n",
    "        \n",
    "replace_with_ohe(df_2020_raw, ['orgtype: Charitable trust', 'orgtype: Incorporated society', 'orgtype: Voluntary organisation', 'orgtype: māori', \n",
    "                               'orgtype: faith', 'orgtype: philanthropic', 'region: All of Aotearoa New Zealand',\n",
    "                               'region: All of North Island', 'region: All of South Island', 'region: Northland',\n",
    "                               'region: Auckland', 'region: Waikato', 'region: Bay of Plenty', 'region: Gisborne',\n",
    "                               \"region: Hawke's Bay\", 'region: Taranaki', 'region: Manawatu-Wanganui', 'region: Wellington',\n",
    "                               'region: Tasman-Nelson-Marlborough', 'region: West Coast', 'region: Canterbury', 'region: Otago',\n",
    "                               'region: Southland'])\n",
    "replace_with_ohe(df_2020_raw, ['ethnic: General (no ethnic-specific focus)', 'ethnic: New Zealand European', 'ethnic: māori',\n",
    "                               'ethnic: Samoan', 'ethnic: Cook Island Māori', 'ethnic: Tongan', 'ethnic: Niuean', 'ethnic: Chinese',\n",
    "                               'ethnic: Indian', 'ethnic: MELA'])\n",
    "replace_with_ohe(df_2020_raw, ['challenges: Ensuring sufficient revenue to maintain viability',\t'challenges: Being able to pay our staff',\n",
    "                               'challenges: Changing our service provision to meet public health criteria',\t'challenges: Meeting the needs of the people we support',\n",
    "                               'challenges: Ensuring our staff and volunteers are well supported', 'challenges: Developing new service offerings',\n",
    "                               'challenges: Loss of volunteers','challenges: Meeting the levels of work required'])\n",
    "replace_with_ohe(df_2020_raw, ['opportunities: Increasing our volunteer base','opportunities: Improving our profile',\n",
    "                               'opportunities: Greater appreciation for and recognition of our work','opportunities: New ways of connecting with funders and/or supporters',\n",
    "                               'opportunities: Working closer with other organisations for a common good','opportunities: New ways of connecting with those using our services',\n",
    "                               'opportunities: New service offerings','opportunities: Faster decision-making','opportunities: Longer contracts or funding agreements',\n",
    "                               'opportunities: More flexibility in contracts or funding agreements','opportunities: Stronger sense of community or common values',\n",
    "                               'opportunities: Increasing our funding','opportunities: Ability to move quickly',\n",
    "                               'opportunities: Better business continuity planning','opportunities: Options around where and how we work'])\n",
    "\n",
    "# export the OHE data for 2020 to a csv\n",
    "df_2020_raw.to_csv('processed/df_2020_ohe.csv')"
   ]
  },
  {
   "cell_type": "code",
   "execution_count": 35,
   "metadata": {},
   "outputs": [
    {
     "data": {
      "text/plain": [
       "<Figure size 432x288 with 0 Axes>"
      ]
     },
     "metadata": {},
     "output_type": "display_data"
    },
    {
     "data": {
      "text/plain": [
       "<Figure size 432x288 with 0 Axes>"
      ]
     },
     "metadata": {},
     "output_type": "display_data"
    },
    {
     "data": {
      "text/plain": [
       "<Figure size 432x288 with 0 Axes>"
      ]
     },
     "metadata": {},
     "output_type": "display_data"
    },
    {
     "data": {
      "text/plain": [
       "<Figure size 432x288 with 0 Axes>"
      ]
     },
     "metadata": {},
     "output_type": "display_data"
    },
    {
     "data": {
      "text/plain": [
       "<Figure size 432x288 with 0 Axes>"
      ]
     },
     "metadata": {},
     "output_type": "display_data"
    }
   ],
   "source": [
    "from matplotlib import pyplot as plt\n",
    "def bar_chart_categories(df, lst, pth):\n",
    "    for item in lst:\n",
    "        starter = item[0]\n",
    "        columns_selected = []\n",
    "        sums = []\n",
    "        for column in df.columns:\n",
    "            if column.startswith(starter) == True and 'other' not in column and 'Other' not in column:\n",
    "                columns_selected.append(column)\n",
    "        for column in columns_selected:\n",
    "            sums.append(df[column].sum())\n",
    "        columns_selected = [x.replace(starter, \"\") for x in columns_selected]\n",
    "        columns_selected = [x.title() for x in columns_selected]\n",
    "        temp_df = pd.DataFrame(list(zip(columns_selected, sums)), columns = [item[1], 'Totals'])\n",
    "        fig, ax = plt.subplots()\n",
    "        hbars = ax.barh(temp_df[item[1]],temp_df['Totals'], color=(0.2, 0.4, 0.6, 0.6))\n",
    "        ax.bar_label(hbars)\n",
    "        fig.patch.set_facecolor('white')\n",
    "        ax.set_title(f\"{item[1]}\")\n",
    "        ax.set_xlabel('No. of Responses')\n",
    "        ax.set_ylabel('Options (excl. Other)')\n",
    "        fig.savefig(f\"{pth}{item[1]}.png\", bbox_inches=\"tight\")\n",
    "        del temp_df\n",
    "        plt.clf()\n",
    "\n",
    "lst_2020 = [['orgtype: ', 'Organisation Type'], ['region: ', 'Region'], ['ethnic: ', 'Ethnicity Serviced'],\n",
    "       ['challenges: ', 'Challenges Encountered'], ['opportunities: ', 'Opportunities']]\n",
    "\n",
    "bar_chart_categories(df_2020_raw, lst_2020, \"../assets/2020 graphs/\")"
   ]
  },
  {
   "cell_type": "code",
   "execution_count": 38,
   "metadata": {},
   "outputs": [
    {
     "data": {
      "text/plain": [
       "<Figure size 432x288 with 0 Axes>"
      ]
     },
     "metadata": {},
     "output_type": "display_data"
    }
   ],
   "source": [
    "org_2021_group = df_2021_raw.groupby('What type of organisation do you represent? (Please choose from the list below)')['Respondent ID'].count().reset_index()\n",
    "fig, ax = plt.subplots()\n",
    "hbars = ax.barh(org_2021_group['What type of organisation do you represent? (Please choose from the list below)'],\n",
    "                org_2021_group['Respondent ID'], color=(0.2, 0.4, 0.6, 0.6))\n",
    "ax.bar_label(hbars)\n",
    "ax.set_title(f\"Organisation Type\")\n",
    "ax.set_xlabel('No. of Responses')\n",
    "ax.set_ylabel('Options (excl. Other)')\n",
    "fig.patch.set_facecolor('white')\n",
    "fig.savefig(f\"../assets/2021 graphs/Organisation Type.png\", bbox_inches=\"tight\")\n",
    "plt.clf()\n",
    "\n",
    "org_2021_group.rename(columns = {'Respondent ID': \"Count\"}, inplace = True)\n"
   ]
  },
  {
   "cell_type": "code",
   "execution_count": 37,
   "metadata": {},
   "outputs": [
    {
     "data": {
      "text/plain": [
       "<Figure size 432x288 with 0 Axes>"
      ]
     },
     "metadata": {},
     "output_type": "display_data"
    },
    {
     "data": {
      "text/plain": [
       "<Figure size 432x288 with 0 Axes>"
      ]
     },
     "metadata": {},
     "output_type": "display_data"
    },
    {
     "data": {
      "text/plain": [
       "<Figure size 432x288 with 0 Axes>"
      ]
     },
     "metadata": {},
     "output_type": "display_data"
    },
    {
     "data": {
      "text/plain": [
       "<Figure size 432x288 with 0 Axes>"
      ]
     },
     "metadata": {},
     "output_type": "display_data"
    }
   ],
   "source": [
    "replace_with_ohe(df_2021_raw, [\n",
    "    \"Region: Northland/Te Tai Tokerau\",\"Region: Auckland/Tāmaki-makau-rau\",\"Region: Waikato\",\"Region: Bay of Plenty/Te Moana-a-Toi\",\n",
    "    \"Region: Gisborne/Te Tai Rāwhiti\",\"Region: Hawke's Bay/Te Matau-a-Māui\",\"Region: Taranaki\",\"Region: Manawatū-Whanganui\",\"Region: Wellington/Te Whanga-nui-a-Tara\",\n",
    "    \"Region: Tasman/Te Tai-o-Aorere\",\"Region: Nelson/Whakatū\",\"Region: Marlborough/Te Tauihu-o-te-waka\",\"Region: West Coast /Te Tai Poutini\",\n",
    "    \"Region: Canterbury/Waitaha\",\"Region: Otago/Ōtākou\",\"Region: Southland/Murihiku\",\"Region: All regions of the North Island/Te Ika-a-Māui\",\n",
    "    \"Region: All regions of the South Island/Te Wai Pounamu\",\"Region: All regions of Aotearoa/New Zealand\",\"Region: We don't operate in Aotearoa/New Zealand\"\n",
    "])\n",
    "replace_with_ohe(df_2021_raw,[\n",
    "    \"Ethnic Groups: New Zealand European/Pakeha/Kiwi\",\"Ethnic Groups: Māori\",\"Ethnic Groups: Samoan\",\"Ethnic Groups: Cook Islands Māori\",\n",
    "    \"Ethnic Groups: Tongan\",\"Ethnic Groups: Niuean\",\"Ethnic Groups: Tokelauan\",\"Ethnic Groups: Fijian\",\"Ethnic Groups: Southeast Asian\",\"Ethnic Groups: Chinese\",\n",
    "    \"Ethnic Groups: Indian\",\"Ethnic Groups: Middle Eastern/Latin American/African (MELAA)\",\"Ethnic Groups: Continental European\"\n",
    "])\n",
    "replace_with_ohe(df_2021_raw,[\n",
    "    \"Five Main Challenges: Ensuring sufficient revenue to maintain viability\",\"Five Main Challenges: Being able to pay our staff\",\n",
    "    \"Five Main Challenges: Changing our service provision to meet public health criteria\",\"Five Main Challenges: Meeting the needs of the people we support\",\n",
    "    \"Five Main Challenges: Ensuring our staff and volunteers are well supported\",\"Five Main Challenges: Developing new service offerings\",\n",
    "    \"Five Main Challenges: Loss of volunteers\",\"Five Main Challenges: Meeting levels of work required\"\n",
    "])\n",
    "replace_with_ohe(df_2021_raw, [\n",
    "    \"Five Opportunities or Personal Outcomes: Increasing our volunteer base\", \"Five Opportunities or Personal Outcomes: Improving our profile\",\n",
    "    \"Five Opportunities or Personal Outcomes: Greater appreciation for and recognition of our work\", \"Five Opportunities or Personal Outcomes: New ways of connecting with funders and/or supporters\",\n",
    "    \"Five Opportunities or Personal Outcomes: Working closer with other organisations for a common good\", \"Five Opportunities or Personal Outcomes: Delivering new types of services\",\n",
    "    \"Five Opportunities or Personal Outcomes: Faster decision making\",\"Five Opportunities or Personal Outcomes: Longer contracts or funding agreements\",\n",
    "    \"Five Opportunities or Personal Outcomes: Being more flexible and adjusting our services\", \"Five Opportunities or Personal Outcomes: Better business continuity planning\",\n",
    "    \"Five Opportunities or Personal Outcomes: Options around where and how we work\", \"Five Opportunities or Personal Outcomes: No new opportunities or positive outcomes\"\n",
    "])\n",
    "\n",
    "df_2021_raw.to_csv('processed/df_2021_ohe.csv')\n",
    "\n",
    "lst_2021 = [['Region: ', 'Region'], ['Ethnic Groups: ', 'Ethnicity Serviced'],\n",
    "       ['Five Main Challenges: ', 'Five Main Challenges Encountered'], ['Five Opportunities or Personal Outcomes: ', 'Five Opportunities or Personal Outcomes']]\n",
    "\n",
    "bar_chart_categories(df_2021_raw, lst_2021,\"../assets/2021 graphs/\")\n"
   ]
  }
 ],
 "metadata": {
  "interpreter": {
   "hash": "b5334d66a7835dfa99cc12f955cef4b950ea77f0cf30caec26ff5f2bb87af526"
  },
  "kernelspec": {
   "display_name": "Python 3.10.4 ('huie')",
   "language": "python",
   "name": "python3"
  },
  "language_info": {
   "codemirror_mode": {
    "name": "ipython",
    "version": 3
   },
   "file_extension": ".py",
   "mimetype": "text/x-python",
   "name": "python",
   "nbconvert_exporter": "python",
   "pygments_lexer": "ipython3",
   "version": "3.10.4"
  },
  "orig_nbformat": 4
 },
 "nbformat": 4,
 "nbformat_minor": 2
}
