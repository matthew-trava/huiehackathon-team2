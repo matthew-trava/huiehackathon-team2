{
 "cells": [
  {
   "cell_type": "code",
   "execution_count": 3,
   "metadata": {},
   "outputs": [
    {
     "name": "stderr",
     "output_type": "stream",
     "text": [
      "404 Client Error: Not Found for url: https://huggingface.co/arpanghoshal/EmoRoBERTa/resolve/main/pytorch_model.bin\n",
      "All model checkpoint layers were used when initializing TFRobertaForSequenceClassification.\n",
      "\n",
      "All the layers of TFRobertaForSequenceClassification were initialized from the model checkpoint at arpanghoshal/EmoRoBERTa.\n",
      "If your task is similar to the task the model of the checkpoint was trained on, you can already use TFRobertaForSequenceClassification for predictions without further training.\n"
     ]
    }
   ],
   "source": [
    "from transformers import pipeline\n",
    "import pandas as pd\n",
    "\n",
    "emotion = pipeline('text-classification', \n",
    "                    model='arpanghoshal/EmoRoBERTa')\n",
    "\n",
    "## reference: https://huggingface.co/arpanghoshal/EmoRoBERTa/tree/main\n",
    "## MIT Licensed \n",
    "\n",
    "def get_emotion_score(text):\n",
    "    return emotion(text)[0]\n"
   ]
  },
  {
   "cell_type": "code",
   "execution_count": 15,
   "metadata": {},
   "outputs": [],
   "source": [
    "df20 = pd.read_csv('../data/processed/df_2020_ohe.csv', usecols=['row hash','priorities and concerns','important learning','comments'])\n",
    "df21 = pd.read_csv('../data/processed/df_2021_ohe.csv', usecols=[\"Can you please tell us your organisations current key priorities and or concerns\",\n",
    "                                                                 'Can you tell us a short story about your experiences',\n",
    "                                                                 'Is there anything else you would like to share with us or comment on'])\n",
    "\n",
    "def dataframe_generator(data, col, year):\n",
    "    temp = pd.DataFrame()\n",
    "    for c in col:\n",
    "        comment_list = data[c].dropna().to_list()\n",
    "        emotion_list = []\n",
    "        score_list = []\n",
    "        for item in comment_list:\n",
    "            tmp = get_emotion_score(item)\n",
    "            emotion_list.append(tmp['label'])\n",
    "            score_list.append(tmp['score'])\n",
    "        item = [c for comment in comment_list]\n",
    "        df = pd.DataFrame({\"Field\":item,\n",
    "                           \"text\": comment_list, \n",
    "                           \"emotions\": emotion_list, \n",
    "                           \"score\":score_list})\n",
    "        temp = pd.concat([temp, df])\n",
    "    temp.to_csv(f'../data/processed/emotions/{year}_emotions.csv')\n",
    "    temp = pd.DataFrame(None)"
   ]
  },
  {
   "cell_type": "code",
   "execution_count": 16,
   "metadata": {},
   "outputs": [],
   "source": [
    "dataframe_generator(df20, ['priorities and concerns','important learning','comments'], 2020)"
   ]
  },
  {
   "cell_type": "code",
   "execution_count": 17,
   "metadata": {},
   "outputs": [],
   "source": [
    "dataframe_generator(df21, [\"Can you please tell us your organisations current key priorities and or concerns\",\n",
    "                           'Can you tell us a short story about your experiences','Is there anything else you would like to share with us or comment on'], 2021)"
   ]
  }
 ],
 "metadata": {
  "interpreter": {
   "hash": "b5334d66a7835dfa99cc12f955cef4b950ea77f0cf30caec26ff5f2bb87af526"
  },
  "kernelspec": {
   "display_name": "Python 3.10.4 ('huie')",
   "language": "python",
   "name": "python3"
  },
  "language_info": {
   "codemirror_mode": {
    "name": "ipython",
    "version": 3
   },
   "file_extension": ".py",
   "mimetype": "text/x-python",
   "name": "python",
   "nbconvert_exporter": "python",
   "pygments_lexer": "ipython3",
   "version": "3.10.4"
  },
  "orig_nbformat": 4
 },
 "nbformat": 4,
 "nbformat_minor": 2
}
