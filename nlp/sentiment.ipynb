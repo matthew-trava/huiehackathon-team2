{
 "cells": [
  {
   "cell_type": "code",
   "execution_count": 12,
   "metadata": {},
   "outputs": [],
   "source": [
    "import spacy\n",
    "from spacytextblob.spacytextblob import SpacyTextBlob\n",
    "import pandas as pd\n",
    "\n",
    "nlp = spacy.load('en_core_web_md')\n",
    "nlp.add_pipe('spacytextblob')\n",
    "\n",
    "df20 = pd.read_csv('../data/processed/df_2020_ohe.csv', usecols=['row hash','priorities and concerns','important learning','comments'])\n",
    "df21 = pd.read_csv('../data/processed/df_2021_ohe.csv', usecols=[\"Can you please tell us your organisations current key priorities and or concerns\",\n",
    "                                                                 'Can you tell us a short story about your experiences',\n",
    "                                                                 'Is there anything else you would like to share with us or comment on'])"
   ]
  },
  {
   "cell_type": "code",
   "execution_count": 40,
   "metadata": {},
   "outputs": [],
   "source": [
    "def sentiment_extraction_from_text(df, lst, year):\n",
    "    tmp = pd.DataFrame()\n",
    "    for item in lst:\n",
    "        text = []\n",
    "        sentiment = []\n",
    "        subjectivity = []\n",
    "        sentences = df[item].dropna().to_list()\n",
    "        for sentence in sentences:\n",
    "            text.append(sentence)\n",
    "            doc = nlp(sentence)\n",
    "            sentiment.append(doc._.blob.polarity)\n",
    "            subjectivity.append(doc._.blob.subjectivity)\n",
    "        sentiment_group = [\"Positive\" if x >=0.4 else 'Neutral' if x>=-0.4 and x<0.4 else \"Negative\" for x in sentiment]\n",
    "        subjectivity_group = [\"More Subjective\" if x >=0.5 else 'More Objective' for x in subjectivity]\n",
    "        items = [item for x in text]\n",
    "        temp = pd.DataFrame({'Field':items,\n",
    "                    'Text': text,\n",
    "                    'sentiment': sentiment,\n",
    "                    'sentiment_group': sentiment_group,\n",
    "                    'subjectivity': subjectivity,\n",
    "                    'subjectivity_group': subjectivity_group})\n",
    "        tmp = pd.concat([tmp, temp])\n",
    "    tmp.to_csv(f'../data/processed/sentiment/{year}_sentiment_subjectivity.csv')\n",
    "        "
   ]
  },
  {
   "cell_type": "code",
   "execution_count": 41,
   "metadata": {},
   "outputs": [],
   "source": [
    "sentiment_extraction_from_text(df20, ['priorities and concerns','important learning','comments'], 2020)"
   ]
  },
  {
   "cell_type": "code",
   "execution_count": 42,
   "metadata": {},
   "outputs": [],
   "source": [
    "sentiment_extraction_from_text(df21, [\"Can you please tell us your organisations current key priorities and or concerns\",\n",
    "                                      'Can you tell us a short story about your experiences',\n",
    "                                      'Is there anything else you would like to share with us or comment on'], 2021)"
   ]
  },
  {
   "cell_type": "code",
   "execution_count": null,
   "metadata": {},
   "outputs": [],
   "source": []
  }
 ],
 "metadata": {
  "interpreter": {
   "hash": "b5334d66a7835dfa99cc12f955cef4b950ea77f0cf30caec26ff5f2bb87af526"
  },
  "kernelspec": {
   "display_name": "Python 3.10.4 ('huie')",
   "language": "python",
   "name": "python3"
  },
  "language_info": {
   "codemirror_mode": {
    "name": "ipython",
    "version": 3
   },
   "file_extension": ".py",
   "mimetype": "text/x-python",
   "name": "python",
   "nbconvert_exporter": "python",
   "pygments_lexer": "ipython3",
   "version": "3.10.4"
  },
  "orig_nbformat": 4
 },
 "nbformat": 4,
 "nbformat_minor": 2
}
