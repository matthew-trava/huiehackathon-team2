{
 "cells": [
  {
   "cell_type": "code",
   "execution_count": 30,
   "id": "4aa7e96d",
   "metadata": {},
   "outputs": [],
   "source": [
    "import pandas as pd\n",
    "import numpy as np\n",
    "import matplotlib.pyplot as plt\n",
    "import jupyterthemes as jtplot\n",
    "from geopy.geocoders import Nominatim\n",
    "import re\n",
    "\n",
    "%config InlineBackend.figure_format = 'retina'                                    # so you can see plots in HD :) \n",
    "#jtplot.style(theme='grade3', context='notebook', ticks=True, grid=True)"
   ]
  },
  {
   "cell_type": "code",
   "execution_count": 2,
   "id": "e5e21c38",
   "metadata": {},
   "outputs": [
    {
     "name": "stdout",
     "output_type": "stream",
     "text": [
      "Index(['row hash', 'your role recoded', 'orgtype: charitable',\n",
      "       'orgtype: inc soc', 'orgtype: voluntary', 'orgtype: māori',\n",
      "       'orgtype: faith', 'orgtype: philanthropic', 'orgtype:other',\n",
      "       'paid staff',\n",
      "       ...\n",
      "       'sector changes: Access to information and data in one place',\n",
      "       'sector changes: Funding to cover salaries and operational costs',\n",
      "       'sector changes: Other (please specify)', 'important learning',\n",
      "       'comments', 'share', 'again: Yes, I am willing to be surveyed again',\n",
      "       'again: Yes, I am willing to be interviewed',\n",
      "       'again: Yes, I would like to see the survey results',\n",
      "       'again: No, I do not wish to be contacted'],\n",
      "      dtype='object', length=133)\n"
     ]
    }
   ],
   "source": [
    "df_2020 = pd.read_csv(r'data/raw/huie_surveyData_2020.csv')\n",
    "df_2021 = pd.read_csv(r'data/raw/huie_surveyData_2021.csv')\n",
    "\n",
    "print(df_2021.keys())"
   ]
  },
  {
   "cell_type": "code",
   "execution_count": 3,
   "id": "7d9919e3",
   "metadata": {},
   "outputs": [
    {
     "name": "stdout",
     "output_type": "stream",
     "text": [
      "362\n",
      "961\n",
      "Northland/Te Tai TokerauAuckland/Tāmakimakaurau\n",
      "[2, 0, 3, 2, 3, 0, 0, 0, 1, 1, 0, 1, 4, 0, 0, 0, 6, 7, 4]\n"
     ]
    }
   ],
   "source": [
    "print(len(df_2020))\n",
    "print(len(df_2021))\n",
    "\n",
    "REGIONS = np.array(\n",
    "            [\"Northland/Te Tai Tokerau\"\n",
    "            \"Auckland/Tāmakimakaurau\", \n",
    "            \"Waikato\",\n",
    "            \"Bay of Plenty/Te MoanaaToi\",\n",
    "            \"Gisborne/Te Tai Rāwhiti\",\n",
    "            \"Hawke's Bay/Te Mataua Māui\",\n",
    "            \"Taranaki\",\n",
    "            \"Manawatū\",\n",
    "            \"Whanganui\",\n",
    "            \"Wellington/Te WhanganuiaTara\",\n",
    "            \"Tasman/Te TaioAorere\",\n",
    "            \"Nelson/Whakatū\",\n",
    "            \"Marlborough/Te Tauihuotewaka\",\n",
    "            \"West Coast /Te Tai Poutini\",\n",
    "            \"Canterbury/Waitaha\",\n",
    "            \"Otago/Ōtākou\",\n",
    "            \"Southland/Murihiku\",\n",
    "            \"All regions of the North Island/Te IkaaMāui\",\n",
    "            \"All regions of the South Island/Te Wai Pounamu\",\n",
    "            \"All regions of Aotearoa/New Zealand\"]\n",
    ")\n",
    "\n",
    "\n",
    "\n",
    "print(max(REGIONS, key=lambda s: (len(s), s)))\n",
    "\n",
    "n_spaces = [a.count(' ') for a in REGIONS]\n",
    "print(n_spaces)"
   ]
  },
  {
   "cell_type": "code",
   "execution_count": 4,
   "id": "e14d322e",
   "metadata": {},
   "outputs": [],
   "source": [
    "text = 'The COVID-19 pandemic has had multiple structural/operational/financial impacts upon our tangata whenua, community and voluntary organisations in Aotearoa/New Zealand. That considered, the pandemic may have also had impacts on the wellbeing and emotional/morale status and stress levels of people in these organisations. Can you tell us a short story about your experiences?'\n",
    "\n",
    "if False:\n",
    "    print(df_2021[text].values)"
   ]
  },
  {
   "cell_type": "code",
   "execution_count": 75,
   "id": "12726732",
   "metadata": {},
   "outputs": [
    {
     "name": "stdout",
     "output_type": "stream",
     "text": [
      "============================================================\n",
      "Carrying out data quality check:\n",
      "-----------------------------------\n",
      "The data has no empty entries in the location column\n",
      "============================================================\n",
      "Auckland/Tāmaki-makau-rau,Waikato,Manawatū-Whanganui,Wellington/Te Whanga-nui-a-TaraNelson/Whakatū,Canterbury/Waitaha,Otago/Ōtākou\n",
      "Southland/Murihiku\n"
     ]
    }
   ],
   "source": [
    "# define function to aggregate data based on the columns\n",
    "def aggregate_regions(df_in, reg_cols):\n",
    "    '''\n",
    "    Takes raw df as input and outputs df with aggregated \n",
    "    regions for each entry in new location column\n",
    "    '''\n",
    "    df_out = df_in.copy()\n",
    "    \n",
    "    df_out = df_out.replace(np.nan, '', regex=True)                        # replace nans for easier agreggation\n",
    "    df_out['location'] = df_out[reg_cols].T.agg(','.join)             # aggregation\n",
    "    df_out = df_out.replace(',,', '', regex=True)                        # gets rid of double commas\n",
    "    \n",
    "    return df_out\n",
    "\n",
    " \n",
    "# define function to get rid of first and last comma\n",
    "def remove_comma(df_in, which):\n",
    "    '''\n",
    "    Inputs df from aggregate_regions output and removes the \n",
    "    '''\n",
    "    df_out = df_in.copy()\n",
    "\n",
    "    # track what comma to remove (index) based on which input\n",
    "    ind = 0 if which == 'first'  else -1\n",
    "    # remove comma with lambda function\n",
    "    with_comma = [(lambda s: s[ind] == ',')(s) for s in df_in['location']]\n",
    "    if which == 'first': \n",
    "        df_out['location'][with_comma] = df_out['location'][with_comma].map(lambda s: str(s)[1:])\n",
    "    elif which == 'last':\n",
    "        df_out['location'][with_comma] = df_out['location'][with_comma].map(lambda s: str(s)[:-1])\n",
    "        \n",
    "    return df_out\n",
    "\n",
    "# define function to ensure that there's no entry with an empty location\n",
    "def gis_quality_check(df_in):\n",
    "    '''\n",
    "    Checks for empty entries in the location column for input df_in\n",
    "    '''\n",
    "    \n",
    "    print(f'='*60)\n",
    "    print(f'Carrying out data quality check:')\n",
    "    print(f'-'*35)\n",
    "    \n",
    "    is_loc_empty =  [(lambda s: s == '')(s) for s in df_in['location']]\n",
    "    n_empty = len(df_in['location'][is_loc_empty])\n",
    "                \n",
    "    if n_empty == 0:\n",
    "        print(f'The data has no empty entries in the location column')\n",
    "        print(f'='*60)\n",
    "    else:\n",
    "        print(f'The data has {n_empty} empty entries in the location column')\n",
    "        print(f'='*60)\n",
    "\n",
    "# call region aggregator\n",
    "region_cols = ['In which region(s) does your organisation operate (please choose all that apply)'] + [f'Unnamed: {j}' for j in range(14,32+1)]\n",
    "df_2020 = aggregate_regions(df_2020, region_cols)\n",
    "\n",
    "# call function to remove comma \n",
    "df_2020 = remove_comma(df_2020, which='first')\n",
    "df_2020 = remove_comma(df_2020, which='last')\n",
    "\n",
    "# call quality data function to check for empty entries\n",
    "gis_quality_check(df_2020)\n",
    "    \n",
    "print(df_2020.loc[5, 'location'])\n",
    "print(df_2020.loc[2, 'location'])\n",
    "\n",
    "#[is_comma_first(val) for val in df_2020['location'].values]"
   ]
  },
  {
   "cell_type": "code",
   "execution_count": null,
   "id": "27c1dde8",
   "metadata": {},
   "outputs": [],
   "source": []
  },
  {
   "cell_type": "markdown",
   "id": "2a1b1e62",
   "metadata": {},
   "source": [
    "## draw map of Aotearoa"
   ]
  },
  {
   "cell_type": "code",
   "execution_count": null,
   "id": "3cc9026f",
   "metadata": {},
   "outputs": [],
   "source": [
    "import geopandas as gpd\n",
    "\n",
    "map_df = gpd.read_file(\"data/gis/regional-council-2022-clipped-generalised.shx\")\n",
    "map_ref = gpd.read_file(\"data/gis/regional_council_2022_clipped_csv.csv\")\n",
    "\n",
    "map_ref"
   ]
  },
  {
   "cell_type": "code",
   "execution_count": null,
   "id": "8a26e82e",
   "metadata": {},
   "outputs": [],
   "source": []
  }
 ],
 "metadata": {
  "interpreter": {
   "hash": "25ce2075f731e0438d6da6f5857be07a47a0e7581f4a326bf75920c1fe207ab1"
  },
  "kernelspec": {
   "display_name": "Python 3 (ipykernel)",
   "language": "python",
   "name": "python3"
  },
  "language_info": {
   "codemirror_mode": {
    "name": "ipython",
    "version": 3
   },
   "file_extension": ".py",
   "mimetype": "text/x-python",
   "name": "python",
   "nbconvert_exporter": "python",
   "pygments_lexer": "ipython3",
   "version": "3.9.7"
  }
 },
 "nbformat": 4,
 "nbformat_minor": 5
}
