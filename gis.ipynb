{
 "cells": [
  {
   "cell_type": "code",
   "execution_count": 427,
   "id": "4aa7e96d",
   "metadata": {},
   "outputs": [],
   "source": [
    "import pandas as pd\n",
    "import numpy as np\n",
    "import matplotlib.pyplot as plt\n",
    "import jupyterthemes as jtplot\n",
    "from geopy.geocoders import Nominatim\n",
    "\n",
    "%config InlineBackend.figure_format = 'retina'                                    # so you can see plots in HD :) \n",
    "#jtplot.style(theme='grade3', context='notebook', ticks=True, grid=True)"
   ]
  },
  {
   "cell_type": "code",
   "execution_count": 428,
   "id": "e5e21c38",
   "metadata": {},
   "outputs": [
    {
     "name": "stdout",
     "output_type": "stream",
     "text": [
      "Index(['row hash', 'your role recoded', 'orgtype: charitable',\n",
      "       'orgtype: inc soc', 'orgtype: voluntary', 'orgtype: māori',\n",
      "       'orgtype: faith', 'orgtype: philanthropic', 'orgtype:other',\n",
      "       'paid staff',\n",
      "       ...\n",
      "       'sector changes: Access to information and data in one place',\n",
      "       'sector changes: Funding to cover salaries and operational costs',\n",
      "       'sector changes: Other (please specify)', 'important learning',\n",
      "       'comments', 'share', 'again: Yes, I am willing to be surveyed again',\n",
      "       'again: Yes, I am willing to be interviewed',\n",
      "       'again: Yes, I would like to see the survey results',\n",
      "       'again: No, I do not wish to be contacted'],\n",
      "      dtype='object', length=133)\n"
     ]
    }
   ],
   "source": [
    "df_2020 = pd.read_csv('data/huie_surveyData_2020.csv')\n",
    "df_2021 = pd.read_csv('data/huie_surveyData_2021.csv')\n",
    "\n",
    "print(df_2020.keys())"
   ]
  },
  {
   "cell_type": "code",
   "execution_count": 429,
   "id": "7d9919e3",
   "metadata": {},
   "outputs": [
    {
     "name": "stdout",
     "output_type": "stream",
     "text": [
      "961\n",
      "362\n",
      "All regions of the South Island/Te Wai Pounamu\n",
      "[0, 0, 3, 2, 3, 0, 0, 0, 1, 1, 0, 1, 4, 0, 0, 0, 6, 7]\n"
     ]
    }
   ],
   "source": [
    "print(len(df_2020))\n",
    "print(len(df_2021))\n",
    "\n",
    "REGIONS = np.array(\n",
    "            [\"Auckland/Tāmakimakaurau\", \n",
    "            \"Waikato\",\n",
    "            \"Bay of Plenty/Te MoanaaToi\",\n",
    "            \"Gisborne/Te Tai Rāwhiti\",\n",
    "            \"Hawke's Bay/Te Mataua Māui\",\n",
    "            \"Taranaki\",\n",
    "            \"Manawatū\",\n",
    "            \"Whanganui\",\n",
    "            \"Wellington/Te WhanganuiaTara\",\n",
    "            \"Tasman/Te TaioAorere\",\n",
    "            \"Nelson/Whakatū\",\n",
    "            \"Marlborough/Te Tauihuotewaka\",\n",
    "            \"West Coast /Te Tai Poutini\",\n",
    "            \"Canterbury/Waitaha\",\n",
    "            \"Otago/Ōtākou\",\n",
    "            \"Southland/Murihiku\",\n",
    "            \"All regions of the North Island/Te IkaaMāui\",\n",
    "            \"All regions of the South Island/Te Wai Pounamu\"])\n",
    "\n",
    "\n",
    "\n",
    "print(max(REGIONS, key=lambda s: (len(s), s)))\n",
    "\n",
    "n_spaces = [a.count(' ') for a in REGIONS]\n",
    "print(n_spaces)"
   ]
  },
  {
   "cell_type": "code",
   "execution_count": 430,
   "id": "e14d322e",
   "metadata": {},
   "outputs": [],
   "source": [
    "text = 'The COVID-19 pandemic has had multiple structural/operational/financial impacts upon our tangata whenua, community and voluntary organisations in Aotearoa/New Zealand. That considered, the pandemic may have also had impacts on the wellbeing and emotional/morale status and stress levels of people in these organisations. Can you tell us a short story about your experiences?'\n",
    "\n",
    "if False:\n",
    "    print(df_2021[text].values)"
   ]
  },
  {
   "cell_type": "code",
   "execution_count": 431,
   "id": "dc57f7ea",
   "metadata": {},
   "outputs": [],
   "source": [
    "if False:\n",
    "\n",
    "    df_2021 = df_2021.replace(np.nan, '', regex=True)\n",
    "\n",
    "    subset_cols = [ 'Respondent ID',\n",
    "    ]\n",
    "\n",
    "    df_2021['Unnamed: 28'].values\n",
    "\n",
    "    df_2021['location'] = ''\n",
    "    for i in range(14,30+1):\n",
    "        df_2021['location'] += df_2021[f'Unnamed: {i}']\n",
    "\n",
    "    df_2021['location'].values"
   ]
  },
  {
   "cell_type": "code",
   "execution_count": 432,
   "id": "12726732",
   "metadata": {},
   "outputs": [
    {
     "data": {
      "text/plain": [
       "',Wellington/Te Whanga-nui-a-Tara,'"
      ]
     },
     "execution_count": 432,
     "metadata": {},
     "output_type": "execute_result"
    }
   ],
   "source": [
    "df_2021 = df_2021.replace(np.nan, '', regex=True)\n",
    "\n",
    "df_2021['location'] = df_2021[[f'Unnamed: {j}' for j in range(14,30+1)]].T.agg(','.join)\n",
    "\n",
    "df_2021 = df_2021.replace(',,', '', regex=True)\n",
    "\n",
    "\n",
    "df_2021.loc[1]['location']\n"
   ]
  },
  {
   "cell_type": "code",
   "execution_count": 438,
   "id": "985c3b55",
   "metadata": {},
   "outputs": [
    {
     "data": {
      "text/plain": [
       "'Taranaki'"
      ]
     },
     "execution_count": 438,
     "metadata": {},
     "output_type": "execute_result"
    }
   ],
   "source": [
    "import re\n",
    "#df_2021 = df_2021.replace(',', '', regex=True)\n",
    "locs = df_2021['location'].values\n",
    "\n",
    "df_2021 = df_2021.replace(',,', '', regex=True)\n",
    "\n",
    "\n",
    "if True:\n",
    "    for i in range(len(df_2021)):\n",
    "        if (df_2021.loc[i]['location'] != '') and (df_2021.loc[i]['location'][0] == ',' or df_2021.loc[i]['location'][-1] == ','):\n",
    "            df_2021.loc[i]['location'] = df_2021.loc[i]['location'].replace(',', '')\n",
    "\n",
    "        elif df_2021.loc[i]['location'].count(',') > 1:\n",
    "            df_2021.loc[i]['location'] = df_2021.loc[i]['location'].split(',')\n",
    "\n",
    "df_2021.loc[6]['location']\n",
    "\n"
   ]
  },
  {
   "cell_type": "code",
   "execution_count": null,
   "id": "890572ce",
   "metadata": {},
   "outputs": [],
   "source": [
    "grouped = df_2021['location'].values"
   ]
  },
  {
   "cell_type": "code",
   "execution_count": null,
   "id": "519adb7f",
   "metadata": {},
   "outputs": [],
   "source": [
    "# replace NANs with empty string\n",
    "df_2021 = df_2021.replace(np.nan, '', regex=True)\n",
    "\n",
    "# define new columns\n",
    "df_2021['location'] = np.empty((len(df_2021), 0)).tolist()\n",
    "df_2021['lat'], df_2021['long'] = np.nan, np.nan\n",
    "\n",
    "\n",
    "#print(type(df_2021.loc[5]['Unnamed: 20']))"
   ]
  },
  {
   "cell_type": "code",
   "execution_count": null,
   "id": "061c4c92",
   "metadata": {},
   "outputs": [],
   "source": [
    "\n",
    "if True:\n",
    "# define geolcoator to get lats and longs\n",
    "    geolocator = Nominatim(user_agent=\"Your_Name\")\n",
    "\n",
    "    df_clean = df_2021.copy()\n",
    "\n",
    "    for i in range(1, len(df_2021)):\n",
    "        for j in range(14,30+1):\n",
    "            key = f'Unnamed: {j}'\n",
    "            if (type(df_2021.loc[i][key]) == str) and (df_2021.loc[i][key] != ''):\n",
    "                df_clean.loc[i]['location'].append(df_2021.loc[i][key])\n",
    "\n",
    "        if False:    \n",
    "            if np.shape(df_clean.loc[i]['location'])[0] == 1:\n",
    "                #print(df_2021.loc[i]['location'][0])\n",
    "                #df_2021.loc[i]['location'] = df_2021.loc[i]['location'][0]\n",
    "                # now append lats and longs\n",
    "                locator = df_clean.loc[i]['location'][0].split('/')[0] + ' New Zealand'\n",
    "                geolocation = geolocator.geocode(locator)\n",
    "                df_clean.loc[i]['lat'], df_clean.loc[i]['long'] = geolocation.latitude, geolocation.longitude\n",
    "                \n",
    "            elif len(df_2021.loc[i]['location']) == 0:\n",
    "                df_clean.loc[i]['location'] = np.nan\n",
    "            \n",
    "        #else:\n",
    "        #    df_2021.loc[i]['location'] = ','.join(df_2021.loc[i]['location'])\n",
    "    "
   ]
  },
  {
   "cell_type": "code",
   "execution_count": null,
   "id": "e9fceea8",
   "metadata": {},
   "outputs": [],
   "source": [
    "df_clean.loc[1]['location']"
   ]
  },
  {
   "cell_type": "code",
   "execution_count": null,
   "id": "d8517c75",
   "metadata": {},
   "outputs": [],
   "source": [
    "df_2021_grouped = df_2021.groupby('location').count()\n",
    "\n",
    "df_2021_grouped['lat'], df_2021_grouped['long'] = np.nan,np.nan\n"
   ]
  },
  {
   "cell_type": "code",
   "execution_count": null,
   "id": "27c1dde8",
   "metadata": {},
   "outputs": [],
   "source": []
  }
 ],
 "metadata": {
  "interpreter": {
   "hash": "25ce2075f731e0438d6da6f5857be07a47a0e7581f4a326bf75920c1fe207ab1"
  },
  "kernelspec": {
   "display_name": "Python [conda env:root] *",
   "language": "python",
   "name": "python3"
  },
  "language_info": {
   "codemirror_mode": {
    "name": "ipython",
    "version": 3
   },
   "file_extension": ".py",
   "mimetype": "text/x-python",
   "name": "python",
   "nbconvert_exporter": "python",
   "pygments_lexer": "ipython3",
   "version": "3.9.7"
  }
 },
 "nbformat": 4,
 "nbformat_minor": 5
}
