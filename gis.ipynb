{
 "cells": [
  {
   "cell_type": "code",
   "execution_count": 1,
   "id": "4aa7e96d",
   "metadata": {},
   "outputs": [],
   "source": [
    "import pandas as pd\n",
    "import numpy as np\n",
    "import matplotlib.pyplot as plt\n",
    "import jupyterthemes as jtplot\n",
    "from geopy.geocoders import Nominatim\n",
    "\n",
    "%config InlineBackend.figure_format = 'retina'                                    # so you can see plots in HD :) \n",
    "#jtplot.style(theme='grade3', context='notebook', ticks=True, grid=True)"
   ]
  },
  {
   "cell_type": "code",
   "execution_count": 2,
   "id": "e5e21c38",
   "metadata": {},
   "outputs": [
    {
     "name": "stdout",
     "output_type": "stream",
     "text": [
      "Index(['row hash', 'your role recoded', 'orgtype: charitable',\n",
      "       'orgtype: inc soc', 'orgtype: voluntary', 'orgtype: māori',\n",
      "       'orgtype: faith', 'orgtype: philanthropic', 'orgtype:other',\n",
      "       'paid staff',\n",
      "       ...\n",
      "       'sector changes: Access to information and data in one place',\n",
      "       'sector changes: Funding to cover salaries and operational costs',\n",
      "       'sector changes: Other (please specify)', 'important learning',\n",
      "       'comments', 'share', 'again: Yes, I am willing to be surveyed again',\n",
      "       'again: Yes, I am willing to be interviewed',\n",
      "       'again: Yes, I would like to see the survey results',\n",
      "       'again: No, I do not wish to be contacted'],\n",
      "      dtype='object', length=133)\n"
     ]
    }
   ],
   "source": [
    "df_2020 = pd.read_csv(r'data/raw/huie_surveyData_2020.csv')\n",
    "df_2021 = pd.read_csv(r'data/raw/huie_surveyData_2021.csv')\n",
    "\n",
    "print(df_2021.keys())"
   ]
  },
  {
   "cell_type": "code",
   "execution_count": 3,
   "id": "7d9919e3",
   "metadata": {},
   "outputs": [
    {
     "name": "stdout",
     "output_type": "stream",
     "text": [
      "362\n",
      "961\n",
      "Northland/Te Tai TokerauAuckland/Tāmakimakaurau\n",
      "[2, 0, 3, 2, 3, 0, 0, 0, 1, 1, 0, 1, 4, 0, 0, 0, 6, 7, 4]\n"
     ]
    }
   ],
   "source": [
    "print(len(df_2020))\n",
    "print(len(df_2021))\n",
    "\n",
    "REGIONS = np.array(\n",
    "            [\"Northland/Te Tai Tokerau\"\n",
    "            \"Auckland/Tāmakimakaurau\", \n",
    "            \"Waikato\",\n",
    "            \"Bay of Plenty/Te MoanaaToi\",\n",
    "            \"Gisborne/Te Tai Rāwhiti\",\n",
    "            \"Hawke's Bay/Te Mataua Māui\",\n",
    "            \"Taranaki\",\n",
    "            \"Manawatū\",\n",
    "            \"Whanganui\",\n",
    "            \"Wellington/Te WhanganuiaTara\",\n",
    "            \"Tasman/Te TaioAorere\",\n",
    "            \"Nelson/Whakatū\",\n",
    "            \"Marlborough/Te Tauihuotewaka\",\n",
    "            \"West Coast /Te Tai Poutini\",\n",
    "            \"Canterbury/Waitaha\",\n",
    "            \"Otago/Ōtākou\",\n",
    "            \"Southland/Murihiku\",\n",
    "            \"All regions of the North Island/Te IkaaMāui\",\n",
    "            \"All regions of the South Island/Te Wai Pounamu\",\n",
    "            \"All regions of Aotearoa/New Zealand\"]\n",
    ")\n",
    "\n",
    "\n",
    "\n",
    "print(max(REGIONS, key=lambda s: (len(s), s)))\n",
    "\n",
    "n_spaces = [a.count(' ') for a in REGIONS]\n",
    "print(n_spaces)"
   ]
  },
  {
   "cell_type": "code",
   "execution_count": 4,
   "id": "e14d322e",
   "metadata": {},
   "outputs": [],
   "source": [
    "text = 'The COVID-19 pandemic has had multiple structural/operational/financial impacts upon our tangata whenua, community and voluntary organisations in Aotearoa/New Zealand. That considered, the pandemic may have also had impacts on the wellbeing and emotional/morale status and stress levels of people in these organisations. Can you tell us a short story about your experiences?'\n",
    "\n",
    "if False:\n",
    "    print(df_2021[text].values)"
   ]
  },
  {
   "cell_type": "code",
   "execution_count": 16,
   "id": "12726732",
   "metadata": {},
   "outputs": [
    {
     "data": {
      "text/plain": [
       "',Auckland/Tāmaki-makau-rau,Waikato,Manawatū-Whanganui,Wellington/Te Whanga-nui-a-TaraNelson/Whakatū,Canterbury/Waitaha,Otago/Ōtākou,'"
      ]
     },
     "execution_count": 16,
     "metadata": {},
     "output_type": "execute_result"
    }
   ],
   "source": [
    "# aggregate data based on the columns\n",
    "df_2020 = df_2020.replace(np.nan, '', regex=True)\n",
    "\n",
    "agg_list = ['In which region(s) does your organisation operate (please choose all that apply)'] + [f'Unnamed: {j}' for j in range(14,32+1)]\n",
    "\n",
    "df_2020['location'] = df_2020[agg_list].T.agg(','.join)\n",
    "\n",
    "df_2020 = df_2020.replace(',,', '', regex=True)\n",
    " \n",
    "\n",
    "df_2020.loc[5, 'location']"
   ]
  },
  {
   "cell_type": "code",
   "execution_count": null,
   "id": "2e277f75",
   "metadata": {},
   "outputs": [],
   "source": []
  },
  {
   "cell_type": "code",
   "execution_count": 18,
   "id": "985c3b55",
   "metadata": {},
   "outputs": [
    {
     "data": {
      "text/plain": [
       "'Taranaki'"
      ]
     },
     "execution_count": 18,
     "metadata": {},
     "output_type": "execute_result"
    }
   ],
   "source": [
    "import re\n",
    "#df_2021 = df_2021.replace(',', '', regex=True)\n",
    "locs = df_2020['location'].values\n",
    "\n",
    "df_2020 = df_2020.replace(',,', '', regex=True)\n",
    "\n",
    "\n",
    "if True:\n",
    "    for i in range(len(df_2020)):\n",
    "        if (df_2020.loc[i]['location'] != '') and (df_2020.loc[i]['location'][0] == ',' or df_2020.loc[i]['location'][-1] == ','):\n",
    "            df_2020.loc[i]['location'] = df_2020.loc[i]['location'].replace(',', '')\n",
    "\n",
    "        elif df_2020.loc[i]['location'].count(',') > 1:\n",
    "            df_2020.loc[i]['location'] = df_2020.loc[i]['location'].split(',')\n",
    "\n",
    "df_2020.loc[6]['location']\n",
    "\n"
   ]
  },
  {
   "cell_type": "code",
   "execution_count": 21,
   "id": "519adb7f",
   "metadata": {},
   "outputs": [],
   "source": [
    "# replace NANs with empty string\n",
    "df_2020 = df_2020.replace(np.nan, '', regex=True)\n",
    "\n",
    "# define new columns\n",
    "df_2020['location'] = np.empty((len(df_2020), 0)).tolist()\n",
    "df_2020['lat'], df_2020['long'] = np.nan, np.nan\n",
    "\n",
    "\n",
    "#print(type(df_2021.loc[5]['Unnamed: 20']))"
   ]
  },
  {
   "cell_type": "code",
   "execution_count": 28,
   "id": "061c4c92",
   "metadata": {},
   "outputs": [],
   "source": [
    "if True:\n",
    "# define geolcoator to get lats and longs\n",
    "    geolocator = Nominatim(user_agent=\"Your_Name\")\n",
    "\n",
    "    df_clean = df_2020.copy()\n",
    "\n",
    "    for i in range(1, len(df_2020)):\n",
    "        for key in agg_list:\n",
    "            if (type(df_2020.loc[i][key]) == str) and (df_2020.loc[i][key] != ''):\n",
    "                df_clean.loc[i]['location'].append(df_2020.loc[i][key])\n",
    "\n",
    "        if False:    \n",
    "            if np.shape(df_clean.loc[i]['location'])[0] == 1:\n",
    "                #print(df_2020.loc[i]['location'][0])\n",
    "                #df_2020.loc[i]['location'] = df_2020.loc[i]['location'][0]\n",
    "                # now append lats and longs\n",
    "                locator = df_clean.loc[i]['location'][0].split('/')[0] + ' New Zealand'\n",
    "                geolocation = geolocator.geocode(locator)\n",
    "                df_clean.loc[i]['lat'], df_clean.loc[i]['long'] = geolocation.latitude, geolocation.longitude\n",
    "                \n",
    "            elif len(df_2020.loc[i]['location']) == 0:\n",
    "                df_clean.loc[i]['location'] = np.nan\n",
    "            \n",
    "        #else:\n",
    "        #    df_2020.loc[i]['location'] = ','.join(df_2020.loc[i]['location'])\n",
    "    "
   ]
  },
  {
   "cell_type": "code",
   "execution_count": 29,
   "id": "ce3b1f6e",
   "metadata": {},
   "outputs": [
    {
     "data": {
      "text/plain": [
       "['Wellington/Te Whanga-nui-a-Tara',\n",
       " 'Wellington/Te Whanga-nui-a-Tara',\n",
       " 'Wellington/Te Whanga-nui-a-Tara']"
      ]
     },
     "execution_count": 29,
     "metadata": {},
     "output_type": "execute_result"
    }
   ],
   "source": [
    "df_2020.loc[1, 'location']"
   ]
  },
  {
   "cell_type": "code",
   "execution_count": null,
   "id": "e43bb3a3",
   "metadata": {},
   "outputs": [],
   "source": []
  },
  {
   "cell_type": "code",
   "execution_count": 12,
   "id": "d8517c75",
   "metadata": {},
   "outputs": [
    {
     "ename": "TypeError",
     "evalue": "unhashable type: 'list'",
     "output_type": "error",
     "traceback": [
      "\u001b[0;31m---------------------------------------------------------------------------\u001b[0m",
      "\u001b[0;31mTypeError\u001b[0m                                 Traceback (most recent call last)",
      "Input \u001b[0;32mIn [12]\u001b[0m, in \u001b[0;36m<cell line: 1>\u001b[0;34m()\u001b[0m\n\u001b[0;32m----> 1\u001b[0m df_2020_grouped \u001b[38;5;241m=\u001b[39m \u001b[43mdf_2020\u001b[49m\u001b[38;5;241;43m.\u001b[39;49m\u001b[43mgroupby\u001b[49m\u001b[43m(\u001b[49m\u001b[38;5;124;43m'\u001b[39;49m\u001b[38;5;124;43mlocation\u001b[39;49m\u001b[38;5;124;43m'\u001b[39;49m\u001b[43m)\u001b[49m\u001b[38;5;241;43m.\u001b[39;49m\u001b[43mcount\u001b[49m\u001b[43m(\u001b[49m\u001b[43m)\u001b[49m\n",
      "File \u001b[0;32m~/opt/miniconda3/lib/python3.9/site-packages/pandas/core/groupby/groupby.py:1843\u001b[0m, in \u001b[0;36mGroupBy.count\u001b[0;34m(self)\u001b[0m\n\u001b[1;32m   1834\u001b[0m \u001b[38;5;124;03m\"\"\"\u001b[39;00m\n\u001b[1;32m   1835\u001b[0m \u001b[38;5;124;03mCompute count of group, excluding missing values.\u001b[39;00m\n\u001b[1;32m   1836\u001b[0m \n\u001b[0;32m   (...)\u001b[0m\n\u001b[1;32m   1840\u001b[0m \u001b[38;5;124;03m    Count of values within each group.\u001b[39;00m\n\u001b[1;32m   1841\u001b[0m \u001b[38;5;124;03m\"\"\"\u001b[39;00m\n\u001b[1;32m   1842\u001b[0m data \u001b[38;5;241m=\u001b[39m \u001b[38;5;28mself\u001b[39m\u001b[38;5;241m.\u001b[39m_get_data_to_aggregate()\n\u001b[0;32m-> 1843\u001b[0m ids, _, ngroups \u001b[38;5;241m=\u001b[39m \u001b[38;5;28;43mself\u001b[39;49m\u001b[38;5;241;43m.\u001b[39;49m\u001b[43mgrouper\u001b[49m\u001b[38;5;241;43m.\u001b[39;49m\u001b[43mgroup_info\u001b[49m\n\u001b[1;32m   1844\u001b[0m mask \u001b[38;5;241m=\u001b[39m ids \u001b[38;5;241m!=\u001b[39m \u001b[38;5;241m-\u001b[39m\u001b[38;5;241m1\u001b[39m\n\u001b[1;32m   1846\u001b[0m is_series \u001b[38;5;241m=\u001b[39m data\u001b[38;5;241m.\u001b[39mndim \u001b[38;5;241m==\u001b[39m \u001b[38;5;241m1\u001b[39m\n",
      "File \u001b[0;32mpandas/_libs/properties.pyx:37\u001b[0m, in \u001b[0;36mpandas._libs.properties.CachedProperty.__get__\u001b[0;34m()\u001b[0m\n",
      "File \u001b[0;32m~/opt/miniconda3/lib/python3.9/site-packages/pandas/core/groupby/ops.py:834\u001b[0m, in \u001b[0;36mBaseGrouper.group_info\u001b[0;34m(self)\u001b[0m\n\u001b[1;32m    832\u001b[0m \u001b[38;5;129m@cache_readonly\u001b[39m\n\u001b[1;32m    833\u001b[0m \u001b[38;5;28;01mdef\u001b[39;00m \u001b[38;5;21mgroup_info\u001b[39m(\u001b[38;5;28mself\u001b[39m) \u001b[38;5;241m-\u001b[39m\u001b[38;5;241m>\u001b[39m \u001b[38;5;28mtuple\u001b[39m[npt\u001b[38;5;241m.\u001b[39mNDArray[np\u001b[38;5;241m.\u001b[39mintp], npt\u001b[38;5;241m.\u001b[39mNDArray[np\u001b[38;5;241m.\u001b[39mintp], \u001b[38;5;28mint\u001b[39m]:\n\u001b[0;32m--> 834\u001b[0m     comp_ids, obs_group_ids \u001b[38;5;241m=\u001b[39m \u001b[38;5;28;43mself\u001b[39;49m\u001b[38;5;241;43m.\u001b[39;49m\u001b[43m_get_compressed_codes\u001b[49m\u001b[43m(\u001b[49m\u001b[43m)\u001b[49m\n\u001b[1;32m    836\u001b[0m     ngroups \u001b[38;5;241m=\u001b[39m \u001b[38;5;28mlen\u001b[39m(obs_group_ids)\n\u001b[1;32m    837\u001b[0m     comp_ids \u001b[38;5;241m=\u001b[39m ensure_platform_int(comp_ids)\n",
      "File \u001b[0;32m~/opt/miniconda3/lib/python3.9/site-packages/pandas/core/groupby/ops.py:862\u001b[0m, in \u001b[0;36mBaseGrouper._get_compressed_codes\u001b[0;34m(self)\u001b[0m\n\u001b[1;32m    859\u001b[0m     \u001b[38;5;28;01mreturn\u001b[39;00m compress_group_index(group_index, sort\u001b[38;5;241m=\u001b[39m\u001b[38;5;28mself\u001b[39m\u001b[38;5;241m.\u001b[39m_sort)\n\u001b[1;32m    861\u001b[0m ping \u001b[38;5;241m=\u001b[39m \u001b[38;5;28mself\u001b[39m\u001b[38;5;241m.\u001b[39mgroupings[\u001b[38;5;241m0\u001b[39m]\n\u001b[0;32m--> 862\u001b[0m \u001b[38;5;28;01mreturn\u001b[39;00m \u001b[43mping\u001b[49m\u001b[38;5;241;43m.\u001b[39;49m\u001b[43mcodes\u001b[49m, np\u001b[38;5;241m.\u001b[39marange(\u001b[38;5;28mlen\u001b[39m(ping\u001b[38;5;241m.\u001b[39mgroup_index), dtype\u001b[38;5;241m=\u001b[39mnp\u001b[38;5;241m.\u001b[39mintp)\n",
      "File \u001b[0;32m~/opt/miniconda3/lib/python3.9/site-packages/pandas/core/groupby/grouper.py:622\u001b[0m, in \u001b[0;36mGrouping.codes\u001b[0;34m(self)\u001b[0m\n\u001b[1;32m    618\u001b[0m \u001b[38;5;28;01mif\u001b[39;00m \u001b[38;5;28mself\u001b[39m\u001b[38;5;241m.\u001b[39m_codes \u001b[38;5;129;01mis\u001b[39;00m \u001b[38;5;129;01mnot\u001b[39;00m \u001b[38;5;28;01mNone\u001b[39;00m:\n\u001b[1;32m    619\u001b[0m     \u001b[38;5;66;03m# _codes is set in __init__ for MultiIndex cases\u001b[39;00m\n\u001b[1;32m    620\u001b[0m     \u001b[38;5;28;01mreturn\u001b[39;00m \u001b[38;5;28mself\u001b[39m\u001b[38;5;241m.\u001b[39m_codes\n\u001b[0;32m--> 622\u001b[0m \u001b[38;5;28;01mreturn\u001b[39;00m \u001b[38;5;28;43mself\u001b[39;49m\u001b[38;5;241;43m.\u001b[39;49m\u001b[43m_codes_and_uniques\u001b[49m[\u001b[38;5;241m0\u001b[39m]\n",
      "File \u001b[0;32mpandas/_libs/properties.pyx:37\u001b[0m, in \u001b[0;36mpandas._libs.properties.CachedProperty.__get__\u001b[0;34m()\u001b[0m\n",
      "File \u001b[0;32m~/opt/miniconda3/lib/python3.9/site-packages/pandas/core/groupby/grouper.py:690\u001b[0m, in \u001b[0;36mGrouping._codes_and_uniques\u001b[0;34m(self)\u001b[0m\n\u001b[1;32m    688\u001b[0m     \u001b[38;5;28;01melse\u001b[39;00m:\n\u001b[1;32m    689\u001b[0m         na_sentinel \u001b[38;5;241m=\u001b[39m \u001b[38;5;241m-\u001b[39m\u001b[38;5;241m1\u001b[39m\n\u001b[0;32m--> 690\u001b[0m     codes, uniques \u001b[38;5;241m=\u001b[39m \u001b[43malgorithms\u001b[49m\u001b[38;5;241;43m.\u001b[39;49m\u001b[43mfactorize\u001b[49m\u001b[43m(\u001b[49m\n\u001b[1;32m    691\u001b[0m \u001b[43m        \u001b[49m\u001b[38;5;28;43mself\u001b[39;49m\u001b[38;5;241;43m.\u001b[39;49m\u001b[43mgrouping_vector\u001b[49m\u001b[43m,\u001b[49m\u001b[43m \u001b[49m\u001b[43msort\u001b[49m\u001b[38;5;241;43m=\u001b[39;49m\u001b[38;5;28;43mself\u001b[39;49m\u001b[38;5;241;43m.\u001b[39;49m\u001b[43m_sort\u001b[49m\u001b[43m,\u001b[49m\u001b[43m \u001b[49m\u001b[43mna_sentinel\u001b[49m\u001b[38;5;241;43m=\u001b[39;49m\u001b[43mna_sentinel\u001b[49m\n\u001b[1;32m    692\u001b[0m \u001b[43m    \u001b[49m\u001b[43m)\u001b[49m\n\u001b[1;32m    693\u001b[0m \u001b[38;5;28;01mreturn\u001b[39;00m codes, uniques\n",
      "File \u001b[0;32m~/opt/miniconda3/lib/python3.9/site-packages/pandas/core/algorithms.py:763\u001b[0m, in \u001b[0;36mfactorize\u001b[0;34m(values, sort, na_sentinel, size_hint)\u001b[0m\n\u001b[1;32m    760\u001b[0m     \u001b[38;5;28;01melse\u001b[39;00m:\n\u001b[1;32m    761\u001b[0m         na_value \u001b[38;5;241m=\u001b[39m \u001b[38;5;28;01mNone\u001b[39;00m\n\u001b[0;32m--> 763\u001b[0m     codes, uniques \u001b[38;5;241m=\u001b[39m \u001b[43mfactorize_array\u001b[49m\u001b[43m(\u001b[49m\n\u001b[1;32m    764\u001b[0m \u001b[43m        \u001b[49m\u001b[43mvalues\u001b[49m\u001b[43m,\u001b[49m\u001b[43m \u001b[49m\u001b[43mna_sentinel\u001b[49m\u001b[38;5;241;43m=\u001b[39;49m\u001b[43mna_sentinel\u001b[49m\u001b[43m,\u001b[49m\u001b[43m \u001b[49m\u001b[43msize_hint\u001b[49m\u001b[38;5;241;43m=\u001b[39;49m\u001b[43msize_hint\u001b[49m\u001b[43m,\u001b[49m\u001b[43m \u001b[49m\u001b[43mna_value\u001b[49m\u001b[38;5;241;43m=\u001b[39;49m\u001b[43mna_value\u001b[49m\n\u001b[1;32m    765\u001b[0m \u001b[43m    \u001b[49m\u001b[43m)\u001b[49m\n\u001b[1;32m    767\u001b[0m \u001b[38;5;28;01mif\u001b[39;00m sort \u001b[38;5;129;01mand\u001b[39;00m \u001b[38;5;28mlen\u001b[39m(uniques) \u001b[38;5;241m>\u001b[39m \u001b[38;5;241m0\u001b[39m:\n\u001b[1;32m    768\u001b[0m     uniques, codes \u001b[38;5;241m=\u001b[39m safe_sort(\n\u001b[1;32m    769\u001b[0m         uniques, codes, na_sentinel\u001b[38;5;241m=\u001b[39mna_sentinel, assume_unique\u001b[38;5;241m=\u001b[39m\u001b[38;5;28;01mTrue\u001b[39;00m, verify\u001b[38;5;241m=\u001b[39m\u001b[38;5;28;01mFalse\u001b[39;00m\n\u001b[1;32m    770\u001b[0m     )\n",
      "File \u001b[0;32m~/opt/miniconda3/lib/python3.9/site-packages/pandas/core/algorithms.py:560\u001b[0m, in \u001b[0;36mfactorize_array\u001b[0;34m(values, na_sentinel, size_hint, na_value, mask)\u001b[0m\n\u001b[1;32m    557\u001b[0m hash_klass, values \u001b[38;5;241m=\u001b[39m _get_data_algo(values)\n\u001b[1;32m    559\u001b[0m table \u001b[38;5;241m=\u001b[39m hash_klass(size_hint \u001b[38;5;129;01mor\u001b[39;00m \u001b[38;5;28mlen\u001b[39m(values))\n\u001b[0;32m--> 560\u001b[0m uniques, codes \u001b[38;5;241m=\u001b[39m \u001b[43mtable\u001b[49m\u001b[38;5;241;43m.\u001b[39;49m\u001b[43mfactorize\u001b[49m\u001b[43m(\u001b[49m\n\u001b[1;32m    561\u001b[0m \u001b[43m    \u001b[49m\u001b[43mvalues\u001b[49m\u001b[43m,\u001b[49m\u001b[43m \u001b[49m\u001b[43mna_sentinel\u001b[49m\u001b[38;5;241;43m=\u001b[39;49m\u001b[43mna_sentinel\u001b[49m\u001b[43m,\u001b[49m\u001b[43m \u001b[49m\u001b[43mna_value\u001b[49m\u001b[38;5;241;43m=\u001b[39;49m\u001b[43mna_value\u001b[49m\u001b[43m,\u001b[49m\u001b[43m \u001b[49m\u001b[43mmask\u001b[49m\u001b[38;5;241;43m=\u001b[39;49m\u001b[43mmask\u001b[49m\n\u001b[1;32m    562\u001b[0m \u001b[43m\u001b[49m\u001b[43m)\u001b[49m\n\u001b[1;32m    564\u001b[0m codes \u001b[38;5;241m=\u001b[39m ensure_platform_int(codes)\n\u001b[1;32m    565\u001b[0m \u001b[38;5;28;01mreturn\u001b[39;00m codes, uniques\n",
      "File \u001b[0;32mpandas/_libs/hashtable_class_helper.pxi:5394\u001b[0m, in \u001b[0;36mpandas._libs.hashtable.PyObjectHashTable.factorize\u001b[0;34m()\u001b[0m\n",
      "File \u001b[0;32mpandas/_libs/hashtable_class_helper.pxi:5310\u001b[0m, in \u001b[0;36mpandas._libs.hashtable.PyObjectHashTable._unique\u001b[0;34m()\u001b[0m\n",
      "\u001b[0;31mTypeError\u001b[0m: unhashable type: 'list'"
     ]
    }
   ],
   "source": [
    "df_2020_grouped = df_2020.groupby('location').count()"
   ]
  },
  {
   "cell_type": "code",
   "execution_count": null,
   "id": "27c1dde8",
   "metadata": {},
   "outputs": [],
   "source": []
  },
  {
   "cell_type": "markdown",
   "id": "a98785ef",
   "metadata": {},
   "source": [
    "## draw map of Aotearoa"
   ]
  },
  {
   "cell_type": "code",
   "execution_count": null,
   "id": "f14b1092",
   "metadata": {},
   "outputs": [],
   "source": [
    "import geopandas as gpd\n",
    "\n",
    "map_df = gpd.read_file(\"data/gis/regional-council-2022-clipped-generalised.shx\")\n",
    "map_ref = gpd.read_file(\"data/gis/regional_council_2022_clipped_csv.csv\")\n",
    "\n",
    "map_ref"
   ]
  },
  {
   "cell_type": "code",
   "execution_count": null,
   "id": "18174432",
   "metadata": {},
   "outputs": [],
   "source": []
  }
 ],
 "metadata": {
  "interpreter": {
   "hash": "25ce2075f731e0438d6da6f5857be07a47a0e7581f4a326bf75920c1fe207ab1"
  },
  "kernelspec": {
   "display_name": "Python 3 (ipykernel)",
   "language": "python",
   "name": "python3"
  },
  "language_info": {
   "codemirror_mode": {
    "name": "ipython",
    "version": 3
   },
   "file_extension": ".py",
   "mimetype": "text/x-python",
   "name": "python",
   "nbconvert_exporter": "python",
   "pygments_lexer": "ipython3",
   "version": "3.9.7"
  }
 },
 "nbformat": 4,
 "nbformat_minor": 5
}
