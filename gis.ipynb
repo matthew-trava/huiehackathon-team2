{
 "cells": [
  {
   "cell_type": "code",
   "execution_count": 30,
   "id": "4aa7e96d",
   "metadata": {},
   "outputs": [],
   "source": [
    "import pandas as pd\n",
    "import numpy as np\n",
    "import matplotlib.pyplot as plt\n",
    "import jupyterthemes as jtplot\n",
    "from geopy.geocoders import Nominatim\n",
    "import re\n",
    "\n",
    "%config InlineBackend.figure_format = 'retina'                                    # so you can see plots in HD :) \n",
    "#jtplot.style(theme='grade3', context='notebook', ticks=True, grid=True)"
   ]
  },
  {
   "cell_type": "markdown",
   "id": "0831f684",
   "metadata": {},
   "source": [
    "## extract data"
   ]
  },
  {
   "cell_type": "code",
   "execution_count": 76,
   "id": "e5e21c38",
   "metadata": {},
   "outputs": [
    {
     "name": "stdout",
     "output_type": "stream",
     "text": [
      "The 2020 survey has 362 partcipants.\n",
      "The 2021 survey has 961 partcipants.\n"
     ]
    }
   ],
   "source": [
    "df_2020 = pd.read_csv(r'data/raw/huie_surveyData_2020.csv')\n",
    "df_2021 = pd.read_csv(r'data/raw/huie_surveyData_2021.csv')\n",
    "\n",
    "print(f'The 2020 survey has {len(df_2020)} partcipants.')\n",
    "print(f'The 2021 survey has {len(df_2021)} partcipants.')"
   ]
  },
  {
   "cell_type": "markdown",
   "id": "e2208396",
   "metadata": {},
   "source": [
    "## transform & clean data"
   ]
  },
  {
   "cell_type": "code",
   "execution_count": 75,
   "id": "12726732",
   "metadata": {},
   "outputs": [
    {
     "name": "stdout",
     "output_type": "stream",
     "text": [
      "============================================================\n",
      "Carrying out data quality check:\n",
      "-----------------------------------\n",
      "The data has no empty entries in the location column\n",
      "============================================================\n",
      "Auckland/Tāmaki-makau-rau,Waikato,Manawatū-Whanganui,Wellington/Te Whanga-nui-a-TaraNelson/Whakatū,Canterbury/Waitaha,Otago/Ōtākou\n",
      "Southland/Murihiku\n"
     ]
    }
   ],
   "source": [
    "REGIONS = np.array(\n",
    "            [\"Northland/Te Tai Tokerau\"\n",
    "            \"Auckland/Tāmakimakaurau\", \n",
    "            \"Waikato\",\n",
    "            \"Bay of Plenty/Te MoanaaToi\",\n",
    "            \"Gisborne/Te Tai Rāwhiti\",\n",
    "            \"Hawke's Bay/Te Mataua Māui\",\n",
    "            \"Taranaki\",\n",
    "            \"Manawatū\",\n",
    "            \"Whanganui\",\n",
    "            \"Wellington/Te WhanganuiaTara\",\n",
    "            \"Tasman/Te TaioAorere\",\n",
    "            \"Nelson/Whakatū\",\n",
    "            \"Marlborough/Te Tauihuotewaka\",\n",
    "            \"West Coast /Te Tai Poutini\",\n",
    "            \"Canterbury/Waitaha\",\n",
    "            \"Otago/Ōtākou\",\n",
    "            \"Southland/Murihiku\",\n",
    "            \"All regions of the North Island/Te IkaaMāui\",\n",
    "            \"All regions of the South Island/Te Wai Pounamu\",\n",
    "            \"All regions of Aotearoa/New Zealand\"]\n",
    ")\n",
    "\n",
    "# define function to aggregate data based on the columns\n",
    "def aggregate_regions(df_in, reg_cols):\n",
    "    '''\n",
    "    Takes raw df as input and outputs df with aggregated \n",
    "    regions for each entry in new location column\n",
    "    '''\n",
    "    df_out = df_in.copy()\n",
    "    \n",
    "    df_out = df_out.replace(np.nan, '', regex=True)                        # replace nans for easier agreggation\n",
    "    df_out['location'] = df_out[reg_cols].T.agg(','.join)             # aggregation\n",
    "    df_out = df_out.replace(',,', '', regex=True)                        # gets rid of double commas\n",
    "    \n",
    "    return df_out\n",
    "\n",
    " \n",
    "# define function to get rid of first and last comma\n",
    "def remove_comma(df_in, which):\n",
    "    '''\n",
    "    Inputs df from aggregate_regions output and removes the \n",
    "    '''\n",
    "    df_out = df_in.copy()\n",
    "\n",
    "    # track what comma to remove (index) based on which input\n",
    "    ind = 0 if which == 'first'  else -1\n",
    "    # remove comma with lambda function\n",
    "    with_comma = [(lambda s: s[ind] == ',')(s) for s in df_in['location']]\n",
    "    if which == 'first': \n",
    "        df_out['location'][with_comma] = df_out['location'][with_comma].map(lambda s: str(s)[1:])\n",
    "    elif which == 'last':\n",
    "        df_out['location'][with_comma] = df_out['location'][with_comma].map(lambda s: str(s)[:-1])\n",
    "        \n",
    "    return df_out\n",
    "\n",
    "# define function to ensure that there's no entry with an empty location\n",
    "def gis_quality_check(df_in):\n",
    "    '''\n",
    "    Checks for empty entries in the location column for input df_in\n",
    "    '''\n",
    "    \n",
    "    print(f'='*60)\n",
    "    print(f'Carrying out data quality check:')\n",
    "    print(f'-'*35)\n",
    "    \n",
    "    is_loc_empty =  [(lambda s: s == '')(s) for s in df_in['location']]\n",
    "    n_empty = len(df_in['location'][is_loc_empty])\n",
    "                \n",
    "    if n_empty == 0:\n",
    "        print(f'The data has no empty entries in the location column')\n",
    "        print(f'='*60)\n",
    "    else:\n",
    "        print(f'The data has {n_empty} empty entries in the location column')\n",
    "        print(f'='*60)\n",
    "\n",
    "# call region aggregator\n",
    "region_cols = ['In which region(s) does your organisation operate (please choose all that apply)'] + [f'Unnamed: {j}' for j in range(14,32+1)]\n",
    "df_2020 = aggregate_regions(df_2020, region_cols)\n",
    "\n",
    "# call function to remove comma \n",
    "df_2020 = remove_comma(df_2020, which='first')\n",
    "df_2020 = remove_comma(df_2020, which='last')\n",
    "\n",
    "# call quality data function to check for empty entries\n",
    "gis_quality_check(df_2020)\n",
    "    \n",
    "print(df_2020.loc[5, 'location'])\n",
    "print(df_2020.loc[2, 'location'])\n",
    "\n",
    "#[is_comma_first(val) for val in df_2020['location'].values]"
   ]
  },
  {
   "cell_type": "markdown",
   "id": "f237fd44",
   "metadata": {},
   "source": [
    "## group data for counting regions"
   ]
  },
  {
   "cell_type": "code",
   "execution_count": null,
   "id": "27c1dde8",
   "metadata": {},
   "outputs": [],
   "source": [
    "df_2020_grouped = df_2020.groupby('location')['Respondent ID'].size()\n",
    "\n",
    "print(df_2020_grouped.values)\n",
    "print(df_2020_grouped.index)"
   ]
  },
  {
   "cell_type": "code",
   "execution_count": null,
   "id": "d11c7d36",
   "metadata": {},
   "outputs": [],
   "source": []
  },
  {
   "cell_type": "code",
   "execution_count": null,
   "id": "179b3a7f",
   "metadata": {},
   "outputs": [],
   "source": []
  },
  {
   "cell_type": "markdown",
   "id": "9c648d5d",
   "metadata": {},
   "source": [
    "## draw map of Aotearoa"
   ]
  },
  {
   "cell_type": "code",
   "execution_count": null,
   "id": "67a0943a",
   "metadata": {},
   "outputs": [],
   "source": [
    "import geopandas as gpd\n",
    "\n",
    "map_df = gpd.read_file(\"data/gis/regional-council-2022-clipped-generalised.shx\")\n",
    "map_ref = gpd.read_file(\"data/gis/regional_council_2022_clipped_csv.csv\")\n",
    "\n",
    "map_ref"
   ]
  },
  {
   "cell_type": "code",
   "execution_count": null,
   "id": "539db24c",
   "metadata": {},
   "outputs": [],
   "source": []
  },
  {
   "cell_type": "code",
   "execution_count": null,
   "id": "ece7f25d",
   "metadata": {},
   "outputs": [],
   "source": []
  },
  {
   "cell_type": "code",
   "execution_count": null,
   "id": "2d91023c",
   "metadata": {},
   "outputs": [],
   "source": []
  },
  {
   "cell_type": "markdown",
   "id": "685042cc",
   "metadata": {},
   "source": [
    "## questions for quotes "
   ]
  },
  {
   "cell_type": "code",
   "execution_count": 4,
   "id": "e14d322e",
   "metadata": {},
   "outputs": [],
   "source": [
    "text = 'The COVID-19 pandemic has had multiple structural/operational/financial impacts upon our tangata whenua, community and voluntary organisations in Aotearoa/New Zealand. That considered, the pandemic may have also had impacts on the wellbeing and emotional/morale status and stress levels of people in these organisations. Can you tell us a short story about your experiences?'\n",
    "\n",
    "if False:\n",
    "    print(df_2021[text].values)"
   ]
  }
 ],
 "metadata": {
  "interpreter": {
   "hash": "25ce2075f731e0438d6da6f5857be07a47a0e7581f4a326bf75920c1fe207ab1"
  },
  "kernelspec": {
   "display_name": "Python 3 (ipykernel)",
   "language": "python",
   "name": "python3"
  },
  "language_info": {
   "codemirror_mode": {
    "name": "ipython",
    "version": 3
   },
   "file_extension": ".py",
   "mimetype": "text/x-python",
   "name": "python",
   "nbconvert_exporter": "python",
   "pygments_lexer": "ipython3",
   "version": "3.9.7"
  }
 },
 "nbformat": 4,
 "nbformat_minor": 5
}
